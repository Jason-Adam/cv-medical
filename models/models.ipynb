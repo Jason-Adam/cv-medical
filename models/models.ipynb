{
 "cells": [
  {
   "cell_type": "markdown",
   "metadata": {},
   "source": [
    "# MSDS 458 Final Project  \n",
    "For the final project I've chosen to build a 3D CNN to detect/predict whether or not a brain CT Scan has an intra-cranial hemorrhage or not.  \n",
    "## Imports"
   ]
  },
  {
   "cell_type": "code",
   "execution_count": 2,
   "metadata": {},
   "outputs": [
    {
     "name": "stderr",
     "output_type": "stream",
     "text": [
      "Using TensorFlow backend.\n"
     ]
    }
   ],
   "source": [
    "import os\n",
    "\n",
    "from keras.models import Sequential\n",
    "from keras import layers\n",
    "from keras import optimizers\n",
    "\n",
    "import matplotlib.pyplot as plt\n",
    "import numpy as np\n",
    "import pandas as pd"
   ]
  },
  {
   "cell_type": "markdown",
   "metadata": {},
   "source": [
    "## Load the Pre-Processed Arrays"
   ]
  },
  {
   "cell_type": "code",
   "execution_count": 6,
   "metadata": {},
   "outputs": [],
   "source": [
    "FILE_PATH = \"/Users/jasonadam/Downloads/cv_medical/processed_arrays/\"\n",
    "TRAINING_FILES = os.listdir(FILE_PATH)\n",
    "FILES = [os.path.join(FILE_PATH, f) for f in TRAINING_FILES]"
   ]
  },
  {
   "cell_type": "code",
   "execution_count": 7,
   "metadata": {},
   "outputs": [
    {
     "data": {
      "text/plain": [
       "(120, 8, 128, 128)"
      ]
     },
     "execution_count": 7,
     "metadata": {},
     "output_type": "execute_result"
    }
   ],
   "source": [
    "array_data = [np.load(f) for f in FILES]\n",
    "array_data = np.array(array_data)\n",
    "array_data.shape"
   ]
  },
  {
   "cell_type": "code",
   "execution_count": 24,
   "metadata": {},
   "outputs": [
    {
     "data": {
      "text/plain": [
       "(120, 8, 128, 128, 1)"
      ]
     },
     "execution_count": 24,
     "metadata": {},
     "output_type": "execute_result"
    }
   ],
   "source": [
    "training_array = np.zeros((120, 8, 128, 128, 1))\n",
    "\n",
    "for i in range(120):\n",
    "    training_array[i, :, :, :, 0] = array_data[i, :, :, :]\n",
    "    \n",
    "training_array.shape"
   ]
  },
  {
   "cell_type": "code",
   "execution_count": 10,
   "metadata": {},
   "outputs": [
    {
     "data": {
      "text/html": [
       "<div>\n",
       "<style scoped>\n",
       "    .dataframe tbody tr th:only-of-type {\n",
       "        vertical-align: middle;\n",
       "    }\n",
       "\n",
       "    .dataframe tbody tr th {\n",
       "        vertical-align: top;\n",
       "    }\n",
       "\n",
       "    .dataframe thead th {\n",
       "        text-align: right;\n",
       "    }\n",
       "</style>\n",
       "<table border=\"1\" class=\"dataframe\">\n",
       "  <thead>\n",
       "    <tr style=\"text-align: right;\">\n",
       "      <th></th>\n",
       "      <th>patient_id</th>\n",
       "      <th>ich_flag</th>\n",
       "    </tr>\n",
       "  </thead>\n",
       "  <tbody>\n",
       "    <tr>\n",
       "      <th>0</th>\n",
       "      <td>CQ500-CT-427</td>\n",
       "      <td>1</td>\n",
       "    </tr>\n",
       "    <tr>\n",
       "      <th>1</th>\n",
       "      <td>CQ500-CT-181</td>\n",
       "      <td>1</td>\n",
       "    </tr>\n",
       "    <tr>\n",
       "      <th>2</th>\n",
       "      <td>CQ500-CT-99</td>\n",
       "      <td>0</td>\n",
       "    </tr>\n",
       "    <tr>\n",
       "      <th>3</th>\n",
       "      <td>CQ500-CT-47</td>\n",
       "      <td>0</td>\n",
       "    </tr>\n",
       "    <tr>\n",
       "      <th>4</th>\n",
       "      <td>CQ500-CT-195</td>\n",
       "      <td>0</td>\n",
       "    </tr>\n",
       "  </tbody>\n",
       "</table>\n",
       "</div>"
      ],
      "text/plain": [
       "     patient_id  ich_flag\n",
       "0  CQ500-CT-427         1\n",
       "1  CQ500-CT-181         1\n",
       "2   CQ500-CT-99         0\n",
       "3   CQ500-CT-47         0\n",
       "4  CQ500-CT-195         0"
      ]
     },
     "execution_count": 10,
     "metadata": {},
     "output_type": "execute_result"
    }
   ],
   "source": [
    "labels_df = pd.read_csv(\"/Users/jasonadam/Downloads/cv_medical/ich_reads.csv\")\n",
    "labels_df.head()"
   ]
  },
  {
   "cell_type": "code",
   "execution_count": 10,
   "metadata": {},
   "outputs": [
    {
     "data": {
      "text/plain": [
       "(120,)"
      ]
     },
     "execution_count": 10,
     "metadata": {},
     "output_type": "execute_result"
    }
   ],
   "source": [
    "file_ids = [n.split(\".\")[0] for n in TRAINING_FILES]\n",
    "file_ids = pd.DataFrame(file_ids, columns=[\"file_id\"])\n",
    "file_labels = file_ids.merge(labels_df, how=\"left\",left_on=\"file_id\", right_on=\"patient_id\")\n",
    "file_labels.reset_index(inplace=True)\n",
    "file_labels.drop(columns=[\"index\", \"file_id\"], inplace=True)\n",
    "\n",
    "training_labels = file_labels[\"ich_flag\"]\n",
    "training_labels.shape"
   ]
  },
  {
   "cell_type": "code",
   "execution_count": 11,
   "metadata": {},
   "outputs": [
    {
     "data": {
      "text/html": [
       "<div>\n",
       "<style scoped>\n",
       "    .dataframe tbody tr th:only-of-type {\n",
       "        vertical-align: middle;\n",
       "    }\n",
       "\n",
       "    .dataframe tbody tr th {\n",
       "        vertical-align: top;\n",
       "    }\n",
       "\n",
       "    .dataframe thead th {\n",
       "        text-align: right;\n",
       "    }\n",
       "</style>\n",
       "<table border=\"1\" class=\"dataframe\">\n",
       "  <thead>\n",
       "    <tr style=\"text-align: right;\">\n",
       "      <th></th>\n",
       "      <th>patient_id</th>\n",
       "    </tr>\n",
       "    <tr>\n",
       "      <th>ich_flag</th>\n",
       "      <th></th>\n",
       "    </tr>\n",
       "  </thead>\n",
       "  <tbody>\n",
       "    <tr>\n",
       "      <th>0</th>\n",
       "      <td>37</td>\n",
       "    </tr>\n",
       "    <tr>\n",
       "      <th>1</th>\n",
       "      <td>83</td>\n",
       "    </tr>\n",
       "  </tbody>\n",
       "</table>\n",
       "</div>"
      ],
      "text/plain": [
       "          patient_id\n",
       "ich_flag            \n",
       "0                 37\n",
       "1                 83"
      ]
     },
     "execution_count": 11,
     "metadata": {},
     "output_type": "execute_result"
    }
   ],
   "source": [
    "file_labels.groupby([\"ich_flag\"]).count()"
   ]
  },
  {
   "cell_type": "markdown",
   "metadata": {},
   "source": [
    "## Model 1"
   ]
  },
  {
   "cell_type": "code",
   "execution_count": 12,
   "metadata": {},
   "outputs": [],
   "source": [
    "def model1():\n",
    "    model = Sequential()\n",
    "    model.add(\n",
    "        layers.Conv3D(\n",
    "            filters=32,\n",
    "            kernel_size=5, \n",
    "            input_shape=(8, 128, 128, 1), \n",
    "            activation=\"relu\"\n",
    "        )\n",
    "    )\n",
    "    model.add(layers.MaxPooling3D())\n",
    "    model.add(layers.Flatten())\n",
    "    model.add(layers.Dense(512, activation=\"relu\"))\n",
    "    model.add(layers.Dense(256, activation=\"relu\"))\n",
    "    model.add(layers.Dense(1, activation=\"sigmoid\"))\n",
    "    \n",
    "    model.compile(loss=\"binary_crossentropy\", optimizer=\"rmsprop\", metrics=[\"accuracy\"])\n",
    "    return model"
   ]
  },
  {
   "cell_type": "code",
   "execution_count": 13,
   "metadata": {},
   "outputs": [
    {
     "name": "stdout",
     "output_type": "stream",
     "text": [
      "WARNING:tensorflow:From /usr/local/lib/python3.7/site-packages/tensorflow/python/framework/op_def_library.py:263: colocate_with (from tensorflow.python.framework.ops) is deprecated and will be removed in a future version.\n",
      "Instructions for updating:\n",
      "Colocations handled automatically by placer.\n",
      "_________________________________________________________________\n",
      "Layer (type)                 Output Shape              Param #   \n",
      "=================================================================\n",
      "conv3d_1 (Conv3D)            (None, 4, 124, 124, 32)   4032      \n",
      "_________________________________________________________________\n",
      "max_pooling3d_1 (MaxPooling3 (None, 2, 62, 62, 32)     0         \n",
      "_________________________________________________________________\n",
      "flatten_1 (Flatten)          (None, 246016)            0         \n",
      "_________________________________________________________________\n",
      "dense_1 (Dense)              (None, 512)               125960704 \n",
      "_________________________________________________________________\n",
      "dense_2 (Dense)              (None, 256)               131328    \n",
      "_________________________________________________________________\n",
      "dense_3 (Dense)              (None, 1)                 257       \n",
      "=================================================================\n",
      "Total params: 126,096,321\n",
      "Trainable params: 126,096,321\n",
      "Non-trainable params: 0\n",
      "_________________________________________________________________\n"
     ]
    }
   ],
   "source": [
    "model1 = model1()\n",
    "model1.summary()"
   ]
  },
  {
   "cell_type": "code",
   "execution_count": 14,
   "metadata": {},
   "outputs": [
    {
     "name": "stdout",
     "output_type": "stream",
     "text": [
      "WARNING:tensorflow:From /usr/local/lib/python3.7/site-packages/tensorflow/python/ops/math_ops.py:3066: to_int32 (from tensorflow.python.ops.math_ops) is deprecated and will be removed in a future version.\n",
      "Instructions for updating:\n",
      "Use tf.cast instead.\n",
      "Epoch 1/5\n",
      " - 40s - loss: 2.7137 - acc: 0.6250\n",
      "Epoch 2/5\n",
      " - 38s - loss: 2.7499 - acc: 0.6917\n",
      "Epoch 3/5\n",
      " - 37s - loss: 2.7466 - acc: 0.6917\n",
      "Epoch 4/5\n",
      " - 37s - loss: 2.7364 - acc: 0.6917\n",
      "Epoch 5/5\n",
      " - 38s - loss: 2.7364 - acc: 0.6917\n"
     ]
    }
   ],
   "source": [
    "hist1 = model1.fit(training_array, training_labels, epochs=5, batch_size=10, verbose=2, shuffle=True)"
   ]
  },
  {
   "cell_type": "code",
   "execution_count": 15,
   "metadata": {},
   "outputs": [
    {
     "data": {
      "text/plain": [
       "{'loss': [2.7137377485632896,\n",
       "  2.749868094921112,\n",
       "  2.7465988670786223,\n",
       "  2.73642772808671,\n",
       "  2.7364357685049376],\n",
       " 'acc': [0.6250000111758709,\n",
       "  0.6916666602094969,\n",
       "  0.6916666726271311,\n",
       "  0.6916666701436043,\n",
       "  0.6916666676600774]}"
      ]
     },
     "execution_count": 15,
     "metadata": {},
     "output_type": "execute_result"
    }
   ],
   "source": [
    "hist1.history"
   ]
  },
  {
   "cell_type": "code",
   "execution_count": 17,
   "metadata": {},
   "outputs": [
    {
     "data": {
      "text/plain": [
       "[<matplotlib.lines.Line2D at 0x13b320630>]"
      ]
     },
     "execution_count": 17,
     "metadata": {},
     "output_type": "execute_result"
    },
    {
     "data": {
      "image/png": "[encoded data removed]",
      "text/plain": [
       "<Figure size 432x288 with 1 Axes>"
      ]
     },
     "metadata": {
      "needs_background": "light"
     },
     "output_type": "display_data"
    }
   ],
   "source": [
    "plt.plot(hist1.history.get(\"loss\"))"
   ]
  },
  {
   "cell_type": "code",
   "execution_count": 18,
   "metadata": {},
   "outputs": [
    {
     "data": {
      "text/plain": [
       "[<matplotlib.lines.Line2D at 0x13b39bf28>]"
      ]
     },
     "execution_count": 18,
     "metadata": {},
     "output_type": "execute_result"
    },
    {
     "data": {
      "image/png": "[encoded data removed]",
      "text/plain": [
       "<Figure size 432x288 with 1 Axes>"
      ]
     },
     "metadata": {
      "needs_background": "light"
     },
     "output_type": "display_data"
    }
   ],
   "source": [
    "plt.plot(hist1.history.get(\"acc\"))"
   ]
  },
  {
   "cell_type": "markdown",
   "metadata": {},
   "source": [
    "## Model 2"
   ]
  },
  {
   "cell_type": "code",
   "execution_count": 3,
   "metadata": {},
   "outputs": [],
   "source": [
    "FILE_PATH_TWO = \"/Users/jasonadam/Downloads/cv_medical/processed_arrays_two/\"\n",
    "TRAINING_FILES_TWO = os.listdir(FILE_PATH_TWO)\n",
    "FILES_TWO = [os.path.join(FILE_PATH_TWO, f) for f in TRAINING_FILES_TWO]"
   ]
  },
  {
   "cell_type": "code",
   "execution_count": 4,
   "metadata": {},
   "outputs": [
    {
     "data": {
      "text/plain": [
       "(120, 32, 256, 256)"
      ]
     },
     "execution_count": 4,
     "metadata": {},
     "output_type": "execute_result"
    }
   ],
   "source": [
    "array_data_two = [np.load(f) for f in FILES_TWO]\n",
    "array_data_two = np.array(array_data_two)\n",
    "array_data_two.shape"
   ]
  },
  {
   "cell_type": "code",
   "execution_count": 5,
   "metadata": {},
   "outputs": [
    {
     "data": {
      "text/plain": [
       "(120, 32, 256, 256, 1)"
      ]
     },
     "execution_count": 5,
     "metadata": {},
     "output_type": "execute_result"
    }
   ],
   "source": [
    "training_array_two = np.zeros((120, 32, 256, 256, 1))\n",
    "\n",
    "for i in range(120):\n",
    "    training_array_two[i, :, :, :, 0] = array_data_two[i, :, :, :]\n",
    "    \n",
    "training_array_two.shape"
   ]
  },
  {
   "cell_type": "code",
   "execution_count": 11,
   "metadata": {},
   "outputs": [
    {
     "data": {
      "text/plain": [
       "(120,)"
      ]
     },
     "execution_count": 11,
     "metadata": {},
     "output_type": "execute_result"
    }
   ],
   "source": [
    "file_ids = [n.split(\".\")[0] for n in TRAINING_FILES_TWO]\n",
    "file_ids = pd.DataFrame(file_ids, columns=[\"file_id\"])\n",
    "file_labels = file_ids.merge(labels_df, how=\"left\",left_on=\"file_id\", right_on=\"patient_id\")\n",
    "file_labels.reset_index(inplace=True)\n",
    "file_labels.drop(columns=[\"index\", \"file_id\"], inplace=True)\n",
    "\n",
    "training_labels = file_labels[\"ich_flag\"]\n",
    "training_labels.shape"
   ]
  },
  {
   "cell_type": "code",
   "execution_count": 13,
   "metadata": {},
   "outputs": [],
   "source": [
    "def model2():\n",
    "    model = Sequential()\n",
    "    model.add(\n",
    "        layers.Conv3D(\n",
    "            filters=32,\n",
    "            kernel_size=3, \n",
    "            input_shape=(32, 256, 256, 1), \n",
    "            activation=\"relu\"\n",
    "        )\n",
    "    )\n",
    "    model.add(layers.MaxPooling3D())\n",
    "    model.add(layers.Conv3D(filters=64, kernel_size=3, activation=\"relu\"))\n",
    "    model.add(layers.MaxPooling3D())\n",
    "    model.add(layers.Flatten())\n",
    "    model.add(layers.Dense(512, activation=\"relu\"))\n",
    "    model.add(layers.Dense(256, activation=\"relu\"))\n",
    "    model.add(layers.Dense(1, activation=\"sigmoid\"))\n",
    "    \n",
    "    model.compile(loss=\"binary_crossentropy\", optimizer=\"rmsprop\", metrics=[\"accuracy\"])\n",
    "    return model"
   ]
  },
  {
   "cell_type": "code",
   "execution_count": 14,
   "metadata": {},
   "outputs": [],
   "source": [
    "model2 = model2()"
   ]
  },
  {
   "cell_type": "code",
   "execution_count": 15,
   "metadata": {},
   "outputs": [
    {
     "name": "stdout",
     "output_type": "stream",
     "text": [
      "_________________________________________________________________\n",
      "Layer (type)                 Output Shape              Param #   \n",
      "=================================================================\n",
      "conv3d_3 (Conv3D)            (None, 30, 254, 254, 32)  896       \n",
      "_________________________________________________________________\n",
      "max_pooling3d_3 (MaxPooling3 (None, 15, 127, 127, 32)  0         \n",
      "_________________________________________________________________\n",
      "conv3d_4 (Conv3D)            (None, 13, 125, 125, 64)  55360     \n",
      "_________________________________________________________________\n",
      "max_pooling3d_4 (MaxPooling3 (None, 6, 62, 62, 64)     0         \n",
      "_________________________________________________________________\n",
      "flatten_2 (Flatten)          (None, 1476096)           0         \n",
      "_________________________________________________________________\n",
      "dense_4 (Dense)              (None, 512)               755761664 \n",
      "_________________________________________________________________\n",
      "dense_5 (Dense)              (None, 256)               131328    \n",
      "_________________________________________________________________\n",
      "dense_6 (Dense)              (None, 1)                 257       \n",
      "=================================================================\n",
      "Total params: 755,949,505\n",
      "Trainable params: 755,949,505\n",
      "Non-trainable params: 0\n",
      "_________________________________________________________________\n"
     ]
    }
   ],
   "source": [
    "model2.summary()"
   ]
  },
  {
   "cell_type": "code",
   "execution_count": 16,
   "metadata": {},
   "outputs": [
    {
     "name": "stdout",
     "output_type": "stream",
     "text": [
      "Epoch 1/5\n",
      "120/120 [==============================] - 1382s 12s/step - loss: 4.5736 - acc: 0.6917\n",
      "Epoch 2/5\n",
      "120/120 [==============================] - 1304s 11s/step - loss: 4.9156 - acc: 0.6917\n",
      "Epoch 3/5\n",
      "120/120 [==============================] - 30078s 251s/step - loss: 4.9156 - acc: 0.6917\n",
      "Epoch 4/5\n",
      "120/120 [==============================] - 32731s 273s/step - loss: 4.9156 - acc: 0.6917\n",
      "Epoch 5/5\n",
      "120/120 [==============================] - 13109s 109s/step - loss: 4.9156 - acc: 0.6917\n"
     ]
    }
   ],
   "source": [
    "hist2 = model2.fit(training_array_two, training_labels, epochs=5, batch_size=10, verbose=1, shuffle=True)"
   ]
  },
  {
   "cell_type": "code",
   "execution_count": 19,
   "metadata": {},
   "outputs": [
    {
     "data": {
      "text/plain": [
       "{'loss': [4.573568686842922,\n",
       "  4.915568798780445,\n",
       "  4.915568868319194,\n",
       "  4.9155688881874084,\n",
       "  4.9155687888463335],\n",
       " 'acc': [0.6916666726271311,\n",
       "  0.6916666726271311,\n",
       "  0.6916666726271311,\n",
       "  0.6916666676600774,\n",
       "  0.6916666689018408]}"
      ]
     },
     "execution_count": 19,
     "metadata": {},
     "output_type": "execute_result"
    }
   ],
   "source": [
    "hist2.history"
   ]
  },
  {
   "cell_type": "code",
   "execution_count": null,
   "metadata": {},
   "outputs": [],
   "source": []
  }
 ],
 "metadata": {
  "kernelspec": {
   "display_name": "Python 3",
   "language": "python",
   "name": "python3"
  },
  "language_info": {
   "codemirror_mode": {
    "name": "ipython",
    "version": 3
   },
   "file_extension": ".py",
   "mimetype": "text/x-python",
   "name": "python",
   "nbconvert_exporter": "python",
   "pygments_lexer": "ipython3",
   "version": "3.7.3"
  }
 },
 "nbformat": 4,
 "nbformat_minor": 4
}
